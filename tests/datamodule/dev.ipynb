{
 "cells": [
  {
   "cell_type": "code",
   "execution_count": null,
   "metadata": {},
   "outputs": [],
   "source": [
    "\"\"\" load OpenWebText .bin files and save as .npy files to be loaded later \"\"\"\n",
    "cache_dir \n",
    "for split in [\"train\", \"validation\", \"test\"]:\n",
    "    filename = "
   ]
  }
 ],
 "metadata": {
  "kernelspec": {
   "display_name": "elsa",
   "language": "python",
   "name": "python3"
  },
  "language_info": {
   "name": "python",
   "version": "3.11.0"
  },
  "orig_nbformat": 4
 },
 "nbformat": 4,
 "nbformat_minor": 2
}
